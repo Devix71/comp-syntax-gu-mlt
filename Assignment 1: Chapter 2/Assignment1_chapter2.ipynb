{
 "cells": [
  {
   "attachments": {},
   "cell_type": "markdown",
   "metadata": {},
   "source": [
    "<h2> Chapter 2: design the morpological types of the major parts of speech in your selected language </h2>"
   ]
  },
  {
   "attachments": {},
   "cell_type": "markdown",
   "metadata": {},
   "source": [
    "<h3> Identifying the inflectional and inherent features </h3>"
   ]
  },
  {
   "attachments": {},
   "cell_type": "markdown",
   "metadata": {},
   "source": [
    "\n",
    "Nouns:\n",
    "\n",
    " Icelandic nouns have inflectional morphology for number, case, gender and definiteness.\n",
    " There are four cases: _nominative_, _accusative_, _dative_ and _genitive_. In addition to this, there are three genders that must be accounted for: _masculine_, _feminine_ and _neuter_. Icelandic nouns can also be inflected for number (singular and plural), but also for _definiteness_ (definite and indefinite nouns).[WikipediaIcelandicGrammar](#Sources)\n",
    "\n",
    " One particular aspect of Icelandic noun inflectional morphology is that they are further divided based on their _strength_ into _strong_ and _weak_ nouns. Strong nouns usually have their root ending in a consonant and are subdivided based on their gender and case, while weak nouns have their root ending in a vowel and are also subdivided based on gender and case, with the mention that there are only 9 neuter nouns in Icelandic which are considered weak nouns.[WikipediaStrongNoun;WikipediaWeakNoun](#Sources)\n",
    "\n",
    " The gender of the noun can be identified just by looking at the ending of the word as such:\n",
    "     Masculine nouns often end in _-ur_, _-i_, _-ll_ or _-nn_.\n",
    "     Feminine nouns often end in _-a_, _-ing_ or _-un_.\n",
    "     Neuter nouns usually have no ending or have a final accented vowel.\n",
    "\n",
    "\n",
    "Adjectives:\n",
    "\n",
    " Icelandic adjectives exhibit inflectional morphology for gender, number, case, strength degree of comparison and degree of definiteness. They must also be in complete agreement with the noun they describe in regards to their gender, number and grammatical case. \n",
    "\n",
    " Adjectives are also devided based on _strong_ and _weak_ declensions, this is done as such: \n",
    "    If an adjective is modified by the article, or a pronouns then weak declension is used, otherwise strong declension is used.\n",
    "\n",
    " There are two degrees of comparison: comparative and superlative, which are formed by adding suffixes to the adjective. [WikipediaIcelandicGrammar](#Sources)\n",
    "\n",
    "Verbs:\n",
    " \n",
    " Icelandic verbs have inflectional morphology for tense, mood, person, number and voice.\n",
    "\n",
    " There are two simple tenses in Icelandic: _simple present_ and _simple past_. All the other tenses are formed through auxiliary constructions, which are used based on various conditions, such as excluding stative verbs. \n",
    " These compound tenses are:\n",
    "    conditional\n",
    "    future\n",
    "    past continuous\n",
    "    past perfect\n",
    "    past subjunctive\n",
    "    present continous\n",
    "    present perfect\n",
    "    present subjunctive\n",
    "\n",
    " The Icelandic verbal moods are the following: indicative, imperative, conditional and subjunctive. They serve to determine the case of subsequent nouns, pronouns and adjectives in a sentence.\n",
    "\n",
    " Icelandic verbs are also divided and subdivided based on their _strength_ categorisation on the following conditions:\n",
    "\n",
    "   - 1st weak: thematic _-a_ verbs, present singular in _-ar_, past indicative in _-aði_, past participle in _-aður_. \n",
    "\n",
    "   - 2nd weak: no visible theme vowel, present singular in _-ir_, past indicative with various dental suffix plus _i_, past participle various.\n",
    "\n",
    "   - 3rd weak: with _j_ in infinitive, present singular in _-ur_, past indicative with various dental suffix plus _i_, past participle various. \n",
    "\n",
    "   - 2nd strong: no thematic signs, present singular in _-ur_, past indicative with various changes and _i_, past participle various. \n",
    "\n",
    "   - 3rd strong: also known as preterite-present. No thematic signs, present singular takes the past tense endings from the 1st strong class, often with some irregular ending changes in the 2nd person. [WikipediaIcelandicGrammar](#Sources)\n",
    "\n",
    "\n",
    "Icelandic posseses the usual _active_ and _passive_ voices with the addition of the the _middle_ voice. Verbs in the middle voice always end in -st.\n",
    "\n",
    "The middle voice is generally used in the following situations to express:\n",
    "\n",
    "   - Reflexivity: the middle voice form of a verb may be used in lieu of a reflexive pronoun, for example: _Þór klæðir sig_ ⇒ _Þór klæðist_ \n",
    "   \n",
    "   - Reciprocity: the middle voice is used to mean 'each other', for example: _Þór talar við Stefán og Stefán talar við Þór_ ⇒ _Þór og Stefán talast við_. \n",
    "\n",
    "   - To form verbs from nouns: the middle voice can also be used to form verbs from nouns. For example, from the noun glanni which means 'a reckless person', comes the verb að glannast, meaning 'to act like a reckless person'. [WikipediaMiddleVoice;WikipediaIcelandicGrammar](#Sources)\n",
    "\n",
    "  [WikipediaIcelandicGrammar]: https://en.wikipedia.org/wiki/Icelandic_grammar\n",
    "\n",
    "  [WikipediaStrongNoun]: https://en.wikipedia.org/wiki/Strong_noun\n",
    "  [WikipediaWeakNoun]:https://en.wikipedia.org/wiki/Weak_noun\n",
    "  [WikipediaWeakNoun]:https://en.wikipedia.org/wiki/Voice_(grammar)#The_middle_voice"
   ]
  },
  {
   "attachments": {},
   "cell_type": "markdown",
   "metadata": {},
   "source": [
    "Based on the data found in the PUD file, the morphological features outlined in the treebank are the following:\n",
    "\n",
    "For nouns:\n",
    "- Case\n",
    "- Definiteness degree\n",
    "- Gender\n",
    "- Number\n",
    "\n",
    "For adjectives:\n",
    "- Case\n",
    "- Definiteness degree\n",
    "- Comparisson degree\n",
    "- Gender\n",
    "- Number\n",
    "\n",
    "For Verbs:\n",
    "- Mood\n",
    "- Number\n",
    "- Person\n",
    "- Tense\n",
    "- VerbForm\n",
    "- Voice\n",
    "\n",
    "Overall it seems that a significant portion of the language's morphological features are represented in the PUD treebank."
   ]
  }
 ],
 "metadata": {
  "kernelspec": {
   "display_name": "School_Py",
   "language": "python",
   "name": "python3"
  },
  "language_info": {
   "codemirror_mode": {
    "name": "ipython",
    "version": 3
   },
   "file_extension": ".py",
   "mimetype": "text/x-python",
   "name": "python",
   "nbconvert_exporter": "python",
   "pygments_lexer": "ipython3",
   "version": "3.10.10"
  },
  "orig_nbformat": 4
 },
 "nbformat": 4,
 "nbformat_minor": 2
}
